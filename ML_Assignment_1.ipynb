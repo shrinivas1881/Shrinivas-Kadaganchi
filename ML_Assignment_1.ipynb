{
  "nbformat": 4,
  "nbformat_minor": 0,
  "metadata": {
    "colab": {
      "provenance": []
    },
    "kernelspec": {
      "name": "python3",
      "display_name": "Python 3"
    },
    "language_info": {
      "name": "python"
    }
  },
  "cells": [
    {
      "cell_type": "markdown",
      "source": [
        "Shrinivas Gollalappa Kadaganchi\n",
        "\n",
        "sxk01930@ucmo.edu\n",
        "\n",
        "700750193"
      ],
      "metadata": {
        "id": "BB0DV8MBp-Zd"
      }
    },
    {
      "cell_type": "markdown",
      "source": [
        "**1. Numpy**"
      ],
      "metadata": {
        "id": "msYQyY-gHVnY"
      }
    },
    {
      "cell_type": "markdown",
      "source": [
        "a. Using NumPy create random vector of size 15 having only Integers in the range 1-20.\n",
        "1. Reshape the array to 3 by 5\n",
        "2. Print array shape.\n",
        "3. Replace the max in each row by 0\n",
        "\n",
        "Create a 2-dimensional array of size 4 x 3 (composed of 4-byte integer elements), also print the shape, type and data type\n",
        "of the array"
      ],
      "metadata": {
        "id": "UDQOARFZH6ws"
      }
    },
    {
      "cell_type": "code",
      "source": [
        "import numpy as np\n",
        "\n",
        "# Create a random vector of size 15 with integers in the range 1-20\n",
        "random_vector = np.random.randint(1, 20, size=15)\n",
        "\n",
        "# Reshape the array to a 3 by 5 matrix\n",
        "reshaped_array = random_vector.reshape(3, 5)\n",
        "\n",
        "# Print the shape of the array\n",
        "print(\"Array shape:\", reshaped_array.shape)\n",
        "\n",
        "# Replace the maximum value in each row with 0\n",
        "max_replaced_array = np.copy(reshaped_array)\n",
        "for i in range(max_replaced_array.shape[0]):\n",
        "    max_replaced_array[i, np.argmax(max_replaced_array[i])] = 0\n",
        "\n",
        "# Print the reshaped array after replacing max values\n",
        "print(\"Array after replacing max values in each row:\\n\", max_replaced_array)\n",
        "\n",
        "# Create a 2-dimensional array of size 4 x 3 with 4-byte integer elements\n",
        "array = np.array([[1, 2, 3],\n",
        "                  [4, 5, 6],\n",
        "                  [7, 8, 9],\n",
        "                  [10, 11, 12]], dtype=np.int32)\n",
        "\n",
        "# Print the shape of the array\n",
        "print(\"Array shape:\", array.shape)\n",
        "\n",
        "# Print the type of the array\n",
        "print(\"Array type:\", type(array))\n",
        "\n",
        "# Print the data type of the array\n",
        "print(\"Array data type:\", array.dtype)\n",
        "\n"
      ],
      "metadata": {
        "colab": {
          "base_uri": "https://localhost:8080/"
        },
        "id": "ETmHmHE5IIC7",
        "outputId": "a028d343-2ca4-4f76-840f-45279f0e087d"
      },
      "execution_count": 17,
      "outputs": [
        {
          "output_type": "stream",
          "name": "stdout",
          "text": [
            "Array shape: (3, 5)\n",
            "Array after replacing max values in each row:\n",
            " [[ 9  8  0  5  9]\n",
            " [10  0 12 10  4]\n",
            " [ 0 11  1  6  1]]\n",
            "Array shape: (4, 3)\n",
            "Array type: <class 'numpy.ndarray'>\n",
            "Array data type: int32\n"
          ]
        }
      ]
    },
    {
      "cell_type": "markdown",
      "source": [
        "b. Write a program to compute the eigenvalues and right eigenvectors of a given square array given below:\n",
        "\n",
        "[[ 3 -2]\n",
        "[ 1 0]]"
      ],
      "metadata": {
        "id": "VwGAW91oJKn8"
      }
    },
    {
      "cell_type": "code",
      "source": [
        "# Define the square array\n",
        "square_array = np.array([[3, -2],\n",
        "                         [1, 0]])\n",
        "\n",
        "# Compute the eigenvalues and right eigenvectors\n",
        "eigenvalues, eigenvectors = np.linalg.eig(square_array)\n",
        "\n",
        "# Print the eigenvalues\n",
        "print(\"Eigenvalues:\")\n",
        "for eigenvalue in eigenvalues:\n",
        "    print(eigenvalue)\n",
        "\n",
        "# Print the right eigenvectors\n",
        "print(\"\\nRight Eigenvectors:\")\n",
        "for eigenvector in eigenvectors.T:\n",
        "    print(eigenvector)\n"
      ],
      "metadata": {
        "colab": {
          "base_uri": "https://localhost:8080/"
        },
        "id": "sMBQq-aeJQUn",
        "outputId": "98c0e71f-761e-41ed-8eb7-55ac00d02fc3"
      },
      "execution_count": 18,
      "outputs": [
        {
          "output_type": "stream",
          "name": "stdout",
          "text": [
            "Eigenvalues:\n",
            "2.0\n",
            "1.0\n",
            "\n",
            "Right Eigenvectors:\n",
            "[0.89442719 0.4472136 ]\n",
            "[0.70710678 0.70710678]\n"
          ]
        }
      ]
    },
    {
      "cell_type": "markdown",
      "source": [
        "c. Compute the sum of the diagonal element of a given array.\n",
        "\n",
        "[[0 1 2]\n",
        "[3 4 5]]"
      ],
      "metadata": {
        "id": "WVv_dC1tJyTi"
      }
    },
    {
      "cell_type": "code",
      "source": [
        "# Define the array\n",
        "array = np.array([[0, 1, 2],\n",
        "                  [3, 4, 5]])\n",
        "\n",
        "# Compute the sum of the diagonal elements\n",
        "diagonal_sum = np.trace(array)\n",
        "\n",
        "# Print the sum of the diagonal elements\n",
        "print(\"Sum of diagonal elements:\", diagonal_sum)\n"
      ],
      "metadata": {
        "colab": {
          "base_uri": "https://localhost:8080/"
        },
        "id": "M7-bihGHJ38Q",
        "outputId": "bbfa43b0-8e25-4ad6-8d0c-e52186ccf093"
      },
      "execution_count": 19,
      "outputs": [
        {
          "output_type": "stream",
          "name": "stdout",
          "text": [
            "Sum of diagonal elements: 4\n"
          ]
        }
      ]
    },
    {
      "cell_type": "markdown",
      "source": [
        "d. Write a NumPy program to create a new shape to an array without changing its data.\n",
        "\n",
        "Reshape 3x2:\n",
        "[[1 2]\n",
        "[3 4]\n",
        "[5 6]]\n",
        "\n",
        "Reshape 2x3:\n",
        "[[1 2 3]\n",
        "[4 5 6]]"
      ],
      "metadata": {
        "id": "qMfwRD8DKev2"
      }
    },
    {
      "cell_type": "code",
      "source": [
        "# Define the original array\n",
        "original_array = np.array([[1, 2],\n",
        "                           [3, 4],\n",
        "                           [5, 6]])\n",
        "\n",
        "\n",
        "# Reshape the array to 2x3\n",
        "reshaped_2x3 = original_array.reshape(2, 3)\n",
        "\n",
        "# Print the reshaped arrays\n",
        "print(\"Original array:\")\n",
        "print(original_array)\n",
        "print(\"\\nReshaped 2x3 array:\")\n",
        "print(reshaped_2x3)"
      ],
      "metadata": {
        "colab": {
          "base_uri": "https://localhost:8080/"
        },
        "id": "ZYs2v3h-KjNw",
        "outputId": "f53501c0-a5a0-4cdc-f90f-8f596717d415"
      },
      "execution_count": 26,
      "outputs": [
        {
          "output_type": "stream",
          "name": "stdout",
          "text": [
            "Original array:\n",
            "[[1 2]\n",
            " [3 4]\n",
            " [5 6]]\n",
            "\n",
            "Reshaped 2x3 array:\n",
            "[[1 2 3]\n",
            " [4 5 6]]\n"
          ]
        }
      ]
    },
    {
      "cell_type": "markdown",
      "source": [
        "**2. Matplotlib**"
      ],
      "metadata": {
        "id": "YynaA03aMOlK"
      }
    },
    {
      "cell_type": "markdown",
      "source": [
        "1. Write a Python programming to create a below chart of the popularity of programming Languages.\n",
        "2. Sample data:\n",
        "\n",
        "Programming languages: Java, Python, PHP, JavaScript, C#, C++\n",
        "\n",
        "Popularity: 22.2, 17.6, 8.8, 8, 7.7, 6.7"
      ],
      "metadata": {
        "id": "jhletd5LMWaO"
      }
    },
    {
      "cell_type": "code",
      "source": [
        "import matplotlib.pyplot as plt\n",
        "\n",
        "# Define the programming languages and their corresponding popularity\n",
        "languages = ['Java', 'Python', 'PHP', 'JavaScript', 'C#', 'C++']\n",
        "popularity = [22.2, 17.6, 8.8, 8, 7.7, 6.7]\n",
        "\n",
        "# Create the pie chart\n",
        "plt.pie(popularity,labels=languages,autopct='%1.1f%%',explode=[0.1,0,0,0,0,0],startangle=140,shadow=True)\n",
        "\n",
        "# Add a title to the chart\n",
        "plt.title('Popularity of Programming Languages')\n",
        "\n",
        "plt.axis('equal')\n"
      ],
      "metadata": {
        "colab": {
          "base_uri": "https://localhost:8080/",
          "height": 497
        },
        "id": "Qx49JVzSMbRu",
        "outputId": "2342392d-b2bb-4783-efdb-4d7635338558"
      },
      "execution_count": 22,
      "outputs": [
        {
          "output_type": "execute_result",
          "data": {
            "text/plain": [
              "(-1.2007872810271971,\n",
              " 1.1047992972738376,\n",
              " -1.0999748951144563,\n",
              " 1.0999987639081006)"
            ]
          },
          "metadata": {},
          "execution_count": 22
        },
        {
          "output_type": "display_data",
          "data": {
            "text/plain": [
              "<Figure size 640x480 with 1 Axes>"
            ],
            "image/png": "[encoded data removed]"
          },
          "metadata": {}
        }
      ]
    }
  ]
}